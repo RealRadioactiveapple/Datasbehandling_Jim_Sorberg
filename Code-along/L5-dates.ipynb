{
 "cells": [
  {
   "cell_type": "markdown",
   "metadata": {},
   "source": [
    "# Datetime\n"
   ]
  },
  {
   "cell_type": "code",
   "execution_count": 6,
   "metadata": {},
   "outputs": [
    {
     "name": "stdout",
     "output_type": "stream",
     "text": [
      "todays date is 2021-11-02\n",
      "todays day is Tuesday\n",
      "what week is it? it is  44\n"
     ]
    },
    {
     "data": {
      "text/plain": [
       "datetime.datetime(2021, 11, 2, 10, 10, 34, 348890)"
      ]
     },
     "execution_count": 6,
     "metadata": {},
     "output_type": "execute_result"
    }
   ],
   "source": [
    "from datetime import datetime\n",
    "\n",
    "now = datetime.now()\n",
    "print(f\"todays date is {now.date()}\")\n",
    "print(f\"todays day is {now.strftime('%A')}\")\n",
    "print(f\"what week is it? it is  {now.strftime('%W')}\") #strftime datetime obj -> str\n",
    "\n",
    "now\n",
    "\n"
   ]
  },
  {
   "cell_type": "markdown",
   "metadata": {},
   "source": []
  },
  {
   "cell_type": "code",
   "execution_count": 8,
   "metadata": {},
   "outputs": [
    {
     "name": "stdout",
     "output_type": "stream",
     "text": [
      "2023-05-19 00:00:00\n"
     ]
    }
   ],
   "source": [
    "graduation_date= \"19/5-2023\"\n",
    "graduation_date = datetime.strptime(graduation_date, \"%d/%m-%Y\")#strptime str -> datetime obj\n",
    "print(graduation_date)"
   ]
  },
  {
   "cell_type": "code",
   "execution_count": 9,
   "metadata": {},
   "outputs": [
    {
     "data": {
      "text/plain": [
       "datetime.timedelta(days=562, seconds=49765, microseconds=651110)"
      ]
     },
     "execution_count": 9,
     "metadata": {},
     "output_type": "execute_result"
    }
   ],
   "source": [
    "remaining_time = graduation_date-now\n",
    "remaining_time"
   ]
  },
  {
   "cell_type": "code",
   "execution_count": 10,
   "metadata": {},
   "outputs": [
    {
     "data": {
      "text/plain": [
       "1.5397260273972602"
      ]
     },
     "execution_count": 10,
     "metadata": {},
     "output_type": "execute_result"
    }
   ],
   "source": [
    "remaining_time.days/365"
   ]
  }
 ],
 "metadata": {
  "interpreter": {
   "hash": "882b81430f90716f70f2117b4d563ea4392b7c3d9ec1ac014e8710e98a03e0c9"
  },
  "kernelspec": {
   "display_name": "Python 3.9.6 64-bit ('Datasbehandling_Jim_Sorberg-Pgmul_OH': pipenv)",
   "name": "python3"
  },
  "language_info": {
   "codemirror_mode": {
    "name": "ipython",
    "version": 3
   },
   "file_extension": ".py",
   "mimetype": "text/x-python",
   "name": "python",
   "nbconvert_exporter": "python",
   "pygments_lexer": "ipython3",
   "version": "3.9.6"
  },
  "orig_nbformat": 4
 },
 "nbformat": 4,
 "nbformat_minor": 2
}
